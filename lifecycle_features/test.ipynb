{
 "cells": [
  {
   "cell_type": "code",
   "execution_count": 2,
   "metadata": {},
   "outputs": [
    {
     "name": "stdout",
     "output_type": "stream",
     "text": [
      "Looking in indexes: https://mirrors.bfsu.edu.cn/pypi/web/simple\n",
      "Collecting pymc3\n",
      "  Downloading https://mirrors.bfsu.edu.cn/pypi/web/packages/a0/af/e795be83ead2ced27ec3ef41e89e21906203fe082b847f3c8659974e3f71/pymc3-3.11.6-py3-none-any.whl (872 kB)\n",
      "\u001b[2K     \u001b[90m━━━━━━━━━━━━━━━━━━━━━━━━━━━━━━━━━━━━━━━\u001b[0m \u001b[32m872.6/872.6 kB\u001b[0m \u001b[31m4.2 MB/s\u001b[0m eta \u001b[36m0:00:00\u001b[0m00:01\u001b[0m00:01\u001b[0m\n",
      "\u001b[?25hCollecting arviz>=0.11.0 (from pymc3)\n",
      "  Downloading https://mirrors.bfsu.edu.cn/pypi/web/packages/86/e8/74277b973ecc46d7c30660de441ca4eb3e9e0cc73b9b5e19e85f02ef4952/arviz-0.20.0-py3-none-any.whl (1.7 MB)\n",
      "\u001b[2K     \u001b[90m━━━━━━━━━━━━━━━━━━━━━━━━━━━━━━━━━━━━━━━━\u001b[0m \u001b[32m1.7/1.7 MB\u001b[0m \u001b[31m18.5 MB/s\u001b[0m eta \u001b[36m0:00:00\u001b[0m00:01\u001b[0m00:01\u001b[0m\n",
      "\u001b[?25hCollecting cachetools>=4.2.1 (from pymc3)\n",
      "  Downloading https://mirrors.bfsu.edu.cn/pypi/web/packages/a4/07/14f8ad37f2d12a5ce41206c21820d8cb6561b728e51fad4530dff0552a67/cachetools-5.5.0-py3-none-any.whl (9.5 kB)\n",
      "Collecting deprecat (from pymc3)\n",
      "  Downloading https://mirrors.bfsu.edu.cn/pypi/web/packages/e3/e7/edd1e6d95770450ada89bdd8be4623c751764eed0717f1f7ed51321722a3/deprecat-2.1.3-py2.py3-none-any.whl (10 kB)\n",
      "Requirement already satisfied: dill in /Users/tangning/anaconda3/lib/python3.11/site-packages (from pymc3) (0.3.6)\n",
      "Collecting fastprogress>=0.2.0 (from pymc3)\n",
      "  Downloading https://mirrors.bfsu.edu.cn/pypi/web/packages/a7/8f/213223fdee199c55db81e2d0c669f30e8285c5be2526c4ed924de39247da/fastprogress-1.0.3-py3-none-any.whl (12 kB)\n",
      "Collecting numpy<1.22.2,>=1.15.0 (from pymc3)\n",
      "  Downloading https://mirrors.bfsu.edu.cn/pypi/web/packages/0a/c8/a62767a6b374a0dfb02d2a0456e5f56a372cdd1689dbc6ffb6bf1ddedbc0/numpy-1.22.1.zip (11.4 MB)\n",
      "\u001b[2K     \u001b[90m━━━━━━━━━━━━━━━━━━━━━━━━━━━━━━━━━━━━━━━━\u001b[0m \u001b[32m11.4/11.4 MB\u001b[0m \u001b[31m43.3 MB/s\u001b[0m eta \u001b[36m0:00:00\u001b[0m00:01\u001b[0m00:01\u001b[0m\n",
      "\u001b[?25h  Installing build dependencies ... \u001b[?25ldone\n",
      "\u001b[?25h  Getting requirements to build wheel ... \u001b[?25ldone\n",
      "\u001b[?25h  Preparing metadata (pyproject.toml) ... \u001b[?25ldone\n",
      "\u001b[?25hRequirement already satisfied: pandas>=0.24.0 in /Users/tangning/anaconda3/lib/python3.11/site-packages (from pymc3) (2.0.3)\n",
      "Requirement already satisfied: patsy>=0.5.1 in /Users/tangning/anaconda3/lib/python3.11/site-packages (from pymc3) (0.5.3)\n",
      "INFO: pip is looking at multiple versions of pymc3 to determine which version is compatible with other requirements. This could take a while.\n",
      "Collecting pymc3\n",
      "  Downloading https://mirrors.bfsu.edu.cn/pypi/web/packages/f1/55/14b80a052fc3aee2f8834fd5e4859299abdddd4aa82a92c18c3d869b1ff6/pymc3-3.11.5-py3-none-any.whl (872 kB)\n",
      "\u001b[2K     \u001b[90m━━━━━━━━━━━━━━━━━━━━━━━━━━━━━━━━━━━━━━\u001b[0m \u001b[32m872.2/872.2 kB\u001b[0m \u001b[31m13.4 MB/s\u001b[0m eta \u001b[36m0:00:00\u001b[0m00:01\u001b[0m\n",
      "\u001b[?25h  Downloading https://mirrors.bfsu.edu.cn/pypi/web/packages/b9/e4/2aff00744c2d7b78836f32e407e5751883ab36cae5509db60bc3dd86ee43/pymc3-3.11.4-py3-none-any.whl (869 kB)\n",
      "\u001b[2K     \u001b[90m━━━━━━━━━━━━━━━━━━━━━━━━━━━━━━━━━━━━━━\u001b[0m \u001b[32m869.5/869.5 kB\u001b[0m \u001b[31m12.5 MB/s\u001b[0m eta \u001b[36m0:00:00\u001b[0m00:01\u001b[0m\n",
      "\u001b[?25hRequirement already satisfied: numpy>=1.15.0 in /Users/tangning/anaconda3/lib/python3.11/site-packages (from pymc3) (1.24.3)\n",
      "Requirement already satisfied: scipy>=1.2.0 in /Users/tangning/anaconda3/lib/python3.11/site-packages (from pymc3) (1.11.1)\n",
      "Collecting semver>=2.13.0 (from pymc3)\n",
      "  Downloading https://mirrors.bfsu.edu.cn/pypi/web/packages/9a/77/0cc7a8a3bc7e53d07e8f47f147b92b0960e902b8254859f4aee5c4d7866b/semver-3.0.2-py3-none-any.whl (17 kB)\n",
      "Collecting theano-pymc==1.1.2 (from pymc3)\n",
      "  Downloading https://mirrors.bfsu.edu.cn/pypi/web/packages/01/26/ee0f0a4c2d18d6a7058c71e3cfed21b31a209979e7d8191dbc990c542a61/Theano-PyMC-1.1.2.tar.gz (1.8 MB)\n",
      "\u001b[2K     \u001b[90m━━━━━━━━━━━━━━━━━━━━━━━━━━━━━━━━━━━━━━━━\u001b[0m \u001b[32m1.8/1.8 MB\u001b[0m \u001b[31m20.1 MB/s\u001b[0m eta \u001b[36m0:00:00\u001b[0m00:01\u001b[0m00:01\u001b[0m\n",
      "\u001b[?25h  Preparing metadata (setup.py) ... \u001b[?25ldone\n",
      "\u001b[?25hRequirement already satisfied: typing-extensions>=3.7.4 in /Users/tangning/anaconda3/lib/python3.11/site-packages (from pymc3) (4.12.2)\n",
      "Requirement already satisfied: filelock in /Users/tangning/anaconda3/lib/python3.11/site-packages (from theano-pymc==1.1.2->pymc3) (3.9.0)\n",
      "Requirement already satisfied: setuptools>=60.0.0 in /Users/tangning/anaconda3/lib/python3.11/site-packages (from arviz>=0.11.0->pymc3) (68.0.0)\n",
      "Requirement already satisfied: matplotlib>=3.5 in /Users/tangning/anaconda3/lib/python3.11/site-packages (from arviz>=0.11.0->pymc3) (3.7.2)\n",
      "Requirement already satisfied: packaging in /Users/tangning/anaconda3/lib/python3.11/site-packages (from arviz>=0.11.0->pymc3) (23.1)\n",
      "Requirement already satisfied: xarray>=2022.6.0 in /Users/tangning/anaconda3/lib/python3.11/site-packages (from arviz>=0.11.0->pymc3) (2023.6.0)\n",
      "Collecting h5netcdf>=1.0.2 (from arviz>=0.11.0->pymc3)\n",
      "  Downloading https://mirrors.bfsu.edu.cn/pypi/web/packages/73/05/0ad1bb1305de0278457e28069a91c5d03f9e2d014e54ac505abfa56ba3e7/h5netcdf-1.4.0-py3-none-any.whl (50 kB)\n",
      "\u001b[2K     \u001b[90m━━━━━━━━━━━━━━━━━━━━━━━━━━━━━━━━━━━━━━━━\u001b[0m \u001b[32m50.0/50.0 kB\u001b[0m \u001b[31m1.7 MB/s\u001b[0m eta \u001b[36m0:00:00\u001b[0m\n",
      "\u001b[?25hCollecting xarray-einstats>=0.3 (from arviz>=0.11.0->pymc3)\n",
      "  Downloading https://mirrors.bfsu.edu.cn/pypi/web/packages/f8/07/27f0d68989bb1c44a781747e222dda67cf65002834ed35ad91abd1a71802/xarray_einstats-0.8.0-py3-none-any.whl (32 kB)\n",
      "Requirement already satisfied: python-dateutil>=2.8.2 in /Users/tangning/anaconda3/lib/python3.11/site-packages (from pandas>=0.24.0->pymc3) (2.8.2)\n",
      "Requirement already satisfied: pytz>=2020.1 in /Users/tangning/anaconda3/lib/python3.11/site-packages (from pandas>=0.24.0->pymc3) (2023.3.post1)\n",
      "Requirement already satisfied: tzdata>=2022.1 in /Users/tangning/anaconda3/lib/python3.11/site-packages (from pandas>=0.24.0->pymc3) (2023.3)\n",
      "Requirement already satisfied: six in /Users/tangning/anaconda3/lib/python3.11/site-packages (from patsy>=0.5.1->pymc3) (1.16.0)\n",
      "Requirement already satisfied: h5py in /Users/tangning/anaconda3/lib/python3.11/site-packages (from h5netcdf>=1.0.2->arviz>=0.11.0->pymc3) (3.9.0)\n",
      "Requirement already satisfied: contourpy>=1.0.1 in /Users/tangning/anaconda3/lib/python3.11/site-packages (from matplotlib>=3.5->arviz>=0.11.0->pymc3) (1.0.5)\n",
      "Requirement already satisfied: cycler>=0.10 in /Users/tangning/anaconda3/lib/python3.11/site-packages (from matplotlib>=3.5->arviz>=0.11.0->pymc3) (0.11.0)\n",
      "Requirement already satisfied: fonttools>=4.22.0 in /Users/tangning/anaconda3/lib/python3.11/site-packages (from matplotlib>=3.5->arviz>=0.11.0->pymc3) (4.25.0)\n",
      "Requirement already satisfied: kiwisolver>=1.0.1 in /Users/tangning/anaconda3/lib/python3.11/site-packages (from matplotlib>=3.5->arviz>=0.11.0->pymc3) (1.4.4)\n",
      "Requirement already satisfied: pillow>=6.2.0 in /Users/tangning/anaconda3/lib/python3.11/site-packages (from matplotlib>=3.5->arviz>=0.11.0->pymc3) (10.0.1)\n",
      "Requirement already satisfied: pyparsing<3.1,>=2.3.1 in /Users/tangning/anaconda3/lib/python3.11/site-packages (from matplotlib>=3.5->arviz>=0.11.0->pymc3) (3.0.9)\n",
      "Building wheels for collected packages: theano-pymc\n",
      "  Building wheel for theano-pymc (setup.py) ... \u001b[?25ldone\n",
      "\u001b[?25h  Created wheel for theano-pymc: filename=Theano_PyMC-1.1.2-py3-none-any.whl size=1529962 sha256=c2a741c3cbd766fe989bb5445d4ae76ca79e75bd438eab3873a3031ad075bbdd\n",
      "  Stored in directory: /Users/tangning/Library/Caches/pip/wheels/3d/85/14/21a90931c3d7e0c095d00a7e66845a36980ba07c0a98425aa2\n",
      "Successfully built theano-pymc\n",
      "Installing collected packages: semver, fastprogress, cachetools, theano-pymc, h5netcdf, xarray-einstats, arviz, pymc3\n",
      "Successfully installed arviz-0.20.0 cachetools-5.5.0 fastprogress-1.0.3 h5netcdf-1.4.0 pymc3-3.11.4 semver-3.0.2 theano-pymc-1.1.2 xarray-einstats-0.8.0\n"
     ]
    }
   ],
   "source": [
    "! pip install pymc3"
   ]
  },
  {
   "cell_type": "code",
   "execution_count": 8,
   "metadata": {},
   "outputs": [
    {
     "name": "stderr",
     "output_type": "stream",
     "text": [
      "Auto-assigning NUTS sampler...\n",
      "Initializing NUTS using jitter+adapt_diag...\n",
      "Multiprocess sampling (4 chains in 4 jobs)\n",
      "NUTS: [alpha_cost, beta_cost, gamma_cost, alpha_price, beta_price]\n"
     ]
    },
    {
     "data": {
      "application/vnd.jupyter.widget-view+json": {
       "model_id": "807c88e626e741609a328c61c3b862aa",
       "version_major": 2,
       "version_minor": 0
      },
      "text/plain": [
       "Output()"
      ]
     },
     "metadata": {},
     "output_type": "display_data"
    },
    {
     "data": {
      "text/html": [
       "<pre style=\"white-space:pre;overflow-x:auto;line-height:normal;font-family:Menlo,'DejaVu Sans Mono',consolas,'Courier New',monospace\"></pre>\n"
      ],
      "text/plain": []
     },
     "metadata": {},
     "output_type": "display_data"
    },
    {
     "name": "stderr",
     "output_type": "stream",
     "text": [
      "Sampling 4 chains for 1_000 tune and 2_000 draw iterations (4_000 + 8_000 draws total) took 40 seconds.\n",
      "Sampling: [cost_obs, price_obs]\n"
     ]
    },
    {
     "data": {
      "application/vnd.jupyter.widget-view+json": {
       "model_id": "c2085734022242a49f3046d0b8f489e0",
       "version_major": 2,
       "version_minor": 0
      },
      "text/plain": [
       "Output()"
      ]
     },
     "metadata": {},
     "output_type": "display_data"
    },
    {
     "data": {
      "text/html": [
       "<pre style=\"white-space:pre;overflow-x:auto;line-height:normal;font-family:Menlo,'DejaVu Sans Mono',consolas,'Courier New',monospace\"></pre>\n"
      ],
      "text/plain": []
     },
     "metadata": {},
     "output_type": "display_data"
    },
    {
     "ename": "KeyError",
     "evalue": "'future_cost_pred'",
     "output_type": "error",
     "traceback": [
      "\u001b[0;31m---------------------------------------------------------------------------\u001b[0m",
      "\u001b[0;31mKeyError\u001b[0m                                  Traceback (most recent call last)",
      "Cell \u001b[0;32mIn[8], line 46\u001b[0m\n\u001b[1;32m     43\u001b[0m     posterior_predictive \u001b[38;5;241m=\u001b[39m pm\u001b[38;5;241m.\u001b[39msample_posterior_predictive(trace)\n\u001b[1;32m     45\u001b[0m     \u001b[38;5;66;03m# 提取未来的预测数据\u001b[39;00m\n\u001b[0;32m---> 46\u001b[0m     future_cost_samples \u001b[38;5;241m=\u001b[39m posterior_predictive[\u001b[38;5;124m'\u001b[39m\u001b[38;5;124mfuture_cost_pred\u001b[39m\u001b[38;5;124m'\u001b[39m]\n\u001b[1;32m     47\u001b[0m     future_price_samples \u001b[38;5;241m=\u001b[39m posterior_predictive[\u001b[38;5;124m'\u001b[39m\u001b[38;5;124mfuture_price_pred\u001b[39m\u001b[38;5;124m'\u001b[39m]\n\u001b[1;32m     49\u001b[0m \u001b[38;5;66;03m# 预测结果可视化\u001b[39;00m\n",
      "File \u001b[0;32m~/anaconda3/lib/python3.11/site-packages/arviz/data/inference_data.py:266\u001b[0m, in \u001b[0;36mInferenceData.__getitem__\u001b[0;34m(self, key)\u001b[0m\n\u001b[1;32m    264\u001b[0m \u001b[38;5;250m\u001b[39m\u001b[38;5;124;03m\"\"\"Get item by key.\"\"\"\u001b[39;00m\n\u001b[1;32m    265\u001b[0m \u001b[38;5;28;01mif\u001b[39;00m key \u001b[38;5;129;01mnot\u001b[39;00m \u001b[38;5;129;01min\u001b[39;00m \u001b[38;5;28mself\u001b[39m\u001b[38;5;241m.\u001b[39m_groups_all:\n\u001b[0;32m--> 266\u001b[0m     \u001b[38;5;28;01mraise\u001b[39;00m \u001b[38;5;167;01mKeyError\u001b[39;00m(key)\n\u001b[1;32m    267\u001b[0m \u001b[38;5;28;01mreturn\u001b[39;00m \u001b[38;5;28mgetattr\u001b[39m(\u001b[38;5;28mself\u001b[39m, key)\n",
      "\u001b[0;31mKeyError\u001b[0m: 'future_cost_pred'"
     ]
    }
   ],
   "source": [
    "import numpy as np\n",
    "import pymc as pm\n",
    "import matplotlib.pyplot as plt\n",
    "\n",
    "# 假设我们有一些历史数据\n",
    "history_time = np.arange(0, 10)  # 历史时间点\n",
    "history_cost = np.array([80, 75, 72, 69, 68, 66, 67, 70, 74, 78])  # 历史成本\n",
    "history_price = np.array([120, 118, 115, 110, 105, 100, 95, 90, 88, 85])  # 历史价格\n",
    "\n",
    "# 定义未来时间\n",
    "future_time = np.arange(10, 20)\n",
    "\n",
    "# PyMC v4 模型\n",
    "with pm.Model() as model:\n",
    "    # 成本的先验：二次曲线（先降后升）\n",
    "    alpha_cost = pm.Normal('alpha_cost', mu=0, sigma=10)  # 二次项\n",
    "    beta_cost = pm.Normal('beta_cost', mu=0, sigma=10)  # 线性项\n",
    "    gamma_cost = pm.Normal('gamma_cost', mu=70, sigma=10)  # 截距项，表示最低点大约在 70\n",
    "\n",
    "    # 价格的先验：线性递减\n",
    "    alpha_price = pm.Normal('alpha_price', mu=-5, sigma=2)  # 线性斜率\n",
    "    beta_price = pm.Normal('beta_price', mu=120, sigma=10)  # 截距，初始价格\n",
    "\n",
    "    # 成本模型\n",
    "    cost_pred = alpha_cost * history_time**2 + beta_cost * history_time + gamma_cost\n",
    "    # 价格模型\n",
    "    price_pred = alpha_price * history_time + beta_price\n",
    "\n",
    "    # 观察数据（历史数据作为观测值）\n",
    "    cost_obs = pm.Normal('cost_obs', mu=cost_pred, sigma=5, observed=history_cost)\n",
    "    price_obs = pm.Normal('price_obs', mu=price_pred, sigma=5, observed=history_price)\n",
    "\n",
    "    # 定义未来的成本和价格预测为 Deterministic 变量\n",
    "    future_cost_pred = pm.Deterministic('future_cost_pred', alpha_cost * future_time**2 + beta_cost * future_time + gamma_cost)\n",
    "    future_price_pred = pm.Deterministic('future_price_pred', alpha_price * future_time + beta_price)\n",
    "\n",
    "    # 后验采样\n",
    "    trace = pm.sample(2000)\n",
    "\n",
    "# 使用采样结果来预测未来\n",
    "with model:\n",
    "    # 获取未来的预测分布\n",
    "    posterior_predictive = pm.sample_posterior_predictive(trace)\n",
    "\n",
    "    # 提取未来的预测数据\n",
    "    future_cost_samples = posterior_predictive['future_cost_pred']\n",
    "    future_price_samples = posterior_predictive['future_price_pred']\n",
    "\n",
    "# 预测结果可视化\n",
    "plt.figure(figsize=(10, 5))\n",
    "\n",
    "# 画出成本的预测\n",
    "plt.subplot(1, 2, 1)\n",
    "plt.plot(history_time, history_cost, 'b', label='历史成本')\n",
    "plt.plot(future_time, future_cost_samples.mean(axis=0), 'r--', label='未来成本预测')\n",
    "plt.fill_between(future_time, \n",
    "                 np.percentile(future_cost_samples, 5, axis=0), \n",
    "                 np.percentile(future_cost_samples, 95, axis=0), \n",
    "                 color='red', alpha=0.3)\n",
    "plt.xlabel('时间')\n",
    "plt.ylabel('成本')\n",
    "plt.legend()\n",
    "\n",
    "# 画出价格的预测\n",
    "plt.subplot(1, 2, 2)\n",
    "plt.plot(history_time, history_price, 'g', label='历史价格')\n",
    "plt.plot(future_time, future_price_samples.mean(axis=0), 'r--', label='未来价格预测')\n",
    "plt.fill_between(future_time, \n",
    "                 np.percentile(future_price_samples, 5, axis=0), \n",
    "                 np.percentile(future_price_samples, 95, axis=0), \n",
    "                 color='red', alpha=0.3)\n",
    "plt.xlabel('时间')\n",
    "plt.ylabel('价格')\n",
    "plt.legend()\n",
    "\n",
    "plt.tight_layout()\n",
    "plt.show()\n"
   ]
  },
  {
   "cell_type": "code",
   "execution_count": null,
   "metadata": {},
   "outputs": [],
   "source": []
  }
 ],
 "metadata": {
  "kernelspec": {
   "display_name": "base",
   "language": "python",
   "name": "python3"
  },
  "language_info": {
   "codemirror_mode": {
    "name": "ipython",
    "version": 3
   },
   "file_extension": ".py",
   "mimetype": "text/x-python",
   "name": "python",
   "nbconvert_exporter": "python",
   "pygments_lexer": "ipython3",
   "version": "3.11.5"
  }
 },
 "nbformat": 4,
 "nbformat_minor": 2
}
